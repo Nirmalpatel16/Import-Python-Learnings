{
 "cells": [
  {
   "cell_type": "markdown",
   "id": "a1581c25",
   "metadata": {},
   "source": [
    "'''\n",
    "There are four function in file handling\n",
    "1. Open\n",
    "2. Read\n",
    "3. Write/Create\n",
    "4. Delete\n",
    "'''"
   ]
  },
  {
   "cell_type": "markdown",
   "id": "ddbe81c5",
   "metadata": {},
   "source": [
    "# Open"
   ]
  },
  {
   "cell_type": "markdown",
   "id": "795628aa",
   "metadata": {},
   "source": [
    "'''\n",
    "Open \n",
    "\n",
    "The Open function take two parameter; filename and Mode\n",
    "e.g f=open('file path',mode)\n",
    "\n",
    "Now let see what are the mode:\n",
    "we have four different types of mode\n",
    "\n",
    "1. \"r\"-Read : Default value. Opens file for reading, error if the file does not exist\n",
    "2. \"a\"-Append : Opens file for appending, creates the file if does not exist (It will add content in the existing file)\n",
    "3. \"w\"-Write : Opens the file for writing, creates the file if does not exist (It will overwrite the content whichever exist)\n",
    "4. \"x\"-Create : Create the specified file,returns error if same file name exist \n",
    "'''"
   ]
  },
  {
   "cell_type": "code",
   "execution_count": 123,
   "id": "3085b72f",
   "metadata": {},
   "outputs": [],
   "source": [
    "f = open('D:/newfile1.txt','x')"
   ]
  },
  {
   "cell_type": "code",
   "execution_count": 124,
   "id": "07470d21",
   "metadata": {},
   "outputs": [
    {
     "ename": "FileExistsError",
     "evalue": "[Errno 17] File exists: 'D:/newfile1.csv'",
     "output_type": "error",
     "traceback": [
      "\u001b[1;31m---------------------------------------------------------------------------\u001b[0m",
      "\u001b[1;31mFileExistsError\u001b[0m                           Traceback (most recent call last)",
      "\u001b[1;32m~\\AppData\\Local\\Temp\\ipykernel_29432\\3782081942.py\u001b[0m in \u001b[0;36m<module>\u001b[1;34m\u001b[0m\n\u001b[1;32m----> 1\u001b[1;33m \u001b[0mf\u001b[0m \u001b[1;33m=\u001b[0m \u001b[0mopen\u001b[0m\u001b[1;33m(\u001b[0m\u001b[1;34m'D:/newfile1.csv'\u001b[0m\u001b[1;33m,\u001b[0m\u001b[1;34m'x'\u001b[0m\u001b[1;33m)\u001b[0m\u001b[1;33m\u001b[0m\u001b[1;33m\u001b[0m\u001b[0m\n\u001b[0m",
      "\u001b[1;31mFileExistsError\u001b[0m: [Errno 17] File exists: 'D:/newfile1.csv'"
     ]
    }
   ],
   "source": [
    "f = open('D:/newfile1.csv','x')"
   ]
  },
  {
   "cell_type": "code",
   "execution_count": 90,
   "id": "0449bf90",
   "metadata": {},
   "outputs": [],
   "source": [
    "f = open('D:/newfile.json','x')"
   ]
  },
  {
   "cell_type": "markdown",
   "id": "9a2489b8",
   "metadata": {},
   "source": [
    "# Read"
   ]
  },
  {
   "cell_type": "code",
   "execution_count": 94,
   "id": "fca2a97a",
   "metadata": {},
   "outputs": [
    {
     "name": "stdout",
     "output_type": "stream",
     "text": [
      "Hello Everyone,\n",
      "You have successfully opened the file.\n",
      "\n",
      "Good Luck....!\n"
     ]
    }
   ],
   "source": [
    "f = open(\"D:/newfile1.txt\",'r')\n",
    "print(f.read())"
   ]
  },
  {
   "cell_type": "code",
   "execution_count": 95,
   "id": "db7bba3d",
   "metadata": {},
   "outputs": [
    {
     "name": "stdout",
     "output_type": "stream",
     "text": [
      "Hello\n"
     ]
    }
   ],
   "source": [
    "# If you want to read fiest 5 character\n",
    "\n",
    "f = open(\"D:/newfile1.txt\",'r')\n",
    "print(f.read(5))"
   ]
  },
  {
   "cell_type": "code",
   "execution_count": 96,
   "id": "193b8a66",
   "metadata": {},
   "outputs": [
    {
     "name": "stdout",
     "output_type": "stream",
     "text": [
      "Hello Everyone,\n",
      "\n"
     ]
    }
   ],
   "source": [
    "# If you want to read fiest line\n",
    "\n",
    "f = open(\"D:/newfile1.txt\",'r')\n",
    "print(f.readline())"
   ]
  },
  {
   "cell_type": "code",
   "execution_count": 97,
   "id": "df78d886",
   "metadata": {},
   "outputs": [
    {
     "name": "stdout",
     "output_type": "stream",
     "text": [
      "Hello Everyone,\n",
      "\n",
      "You have successfully opened the file.\n",
      "\n"
     ]
    }
   ],
   "source": [
    "# If you want to read 2 lines fron the file\n",
    "\n",
    "f = open(\"D:/newfile1.txt\",'r')\n",
    "print(f.readline())\n",
    "print(f.readline())"
   ]
  },
  {
   "cell_type": "code",
   "execution_count": 98,
   "id": "7fe37c1d",
   "metadata": {},
   "outputs": [
    {
     "name": "stdout",
     "output_type": "stream",
     "text": [
      "Hello Everyone,\n",
      "\n",
      "You have successfully opened the file.\n",
      "\n",
      "\n",
      "\n",
      "Good Luck....!\n"
     ]
    }
   ],
   "source": [
    "# If you want to read file line by line the use for loop\n",
    "\n",
    "f = open(\"D:/newfile1.txt\",'r')\n",
    "for x in f:\n",
    "    print(x)"
   ]
  },
  {
   "cell_type": "markdown",
   "id": "bd5ff60f",
   "metadata": {},
   "source": [
    "# Appending"
   ]
  },
  {
   "cell_type": "code",
   "execution_count": 99,
   "id": "2f97b5b5",
   "metadata": {},
   "outputs": [
    {
     "name": "stdout",
     "output_type": "stream",
     "text": [
      "27\n"
     ]
    }
   ],
   "source": [
    "f= open(\"D:/newfile1.txt\",'a')\n",
    "print(f.write(\"This is appending statement\"))"
   ]
  },
  {
   "cell_type": "code",
   "execution_count": 100,
   "id": "460b42f0",
   "metadata": {},
   "outputs": [
    {
     "name": "stdout",
     "output_type": "stream",
     "text": [
      "Hello Everyone,\n",
      "\n",
      "You have successfully opened the file.\n",
      "\n",
      "\n",
      "\n",
      "Good Luck....!This is appending statement\n"
     ]
    }
   ],
   "source": [
    "f= open('D:/newfile1.txt','r')\n",
    "for x in f:\n",
    "    print(x)"
   ]
  },
  {
   "cell_type": "code",
   "execution_count": 101,
   "id": "09385c75",
   "metadata": {},
   "outputs": [
    {
     "name": "stdout",
     "output_type": "stream",
     "text": [
      "46\n"
     ]
    }
   ],
   "source": [
    "f = open(\"D:/newfile1.txt\",'w')\n",
    "print(f.write(\"This statement will overwrite the existing one\"))"
   ]
  },
  {
   "cell_type": "code",
   "execution_count": 102,
   "id": "17303373",
   "metadata": {},
   "outputs": [
    {
     "name": "stdout",
     "output_type": "stream",
     "text": [
      "This statement will overwrite the existing one\n"
     ]
    }
   ],
   "source": [
    "f = open(\"D:/newfile1.txt\",'r')\n",
    "print(f.read())"
   ]
  },
  {
   "cell_type": "markdown",
   "id": "20049a8c",
   "metadata": {},
   "source": [
    "# Delete"
   ]
  },
  {
   "cell_type": "code",
   "execution_count": 103,
   "id": "0f1c92e4",
   "metadata": {},
   "outputs": [],
   "source": [
    "# For deleting any file, that perticular file should be closed first\n",
    "# To close the file \"import os\""
   ]
  },
  {
   "cell_type": "code",
   "execution_count": 117,
   "id": "282642b5",
   "metadata": {},
   "outputs": [],
   "source": [
    "import os"
   ]
  },
  {
   "cell_type": "code",
   "execution_count": 127,
   "id": "7a531b77",
   "metadata": {},
   "outputs": [
    {
     "ename": "PermissionError",
     "evalue": "[WinError 32] The process cannot access the file because it is being used by another process: 'D:/newfile1.txt'",
     "output_type": "error",
     "traceback": [
      "\u001b[1;31m---------------------------------------------------------------------------\u001b[0m",
      "\u001b[1;31mPermissionError\u001b[0m                           Traceback (most recent call last)",
      "\u001b[1;32m~\\AppData\\Local\\Temp\\ipykernel_29432\\2541033058.py\u001b[0m in \u001b[0;36m<module>\u001b[1;34m\u001b[0m\n\u001b[1;32m----> 1\u001b[1;33m \u001b[0mos\u001b[0m\u001b[1;33m.\u001b[0m\u001b[0mremove\u001b[0m\u001b[1;33m(\u001b[0m\u001b[1;34m'D:/newfile1.txt'\u001b[0m\u001b[1;33m)\u001b[0m\u001b[1;33m\u001b[0m\u001b[1;33m\u001b[0m\u001b[0m\n\u001b[0m",
      "\u001b[1;31mPermissionError\u001b[0m: [WinError 32] The process cannot access the file because it is being used by another process: 'D:/newfile1.txt'"
     ]
    }
   ],
   "source": [
    "os.remove('D:/newfile1.txt')  # First you need to close the file"
   ]
  },
  {
   "cell_type": "code",
   "execution_count": 120,
   "id": "fe61a469",
   "metadata": {},
   "outputs": [],
   "source": [
    "f.close()"
   ]
  },
  {
   "cell_type": "code",
   "execution_count": 121,
   "id": "618f2ce6",
   "metadata": {},
   "outputs": [],
   "source": [
    "os.remove('D:/newfile1.txt')"
   ]
  },
  {
   "cell_type": "code",
   "execution_count": 126,
   "id": "54832a6e",
   "metadata": {},
   "outputs": [],
   "source": [
    "os.remove('D:/newfile1.csv')"
   ]
  },
  {
   "cell_type": "code",
   "execution_count": 111,
   "id": "5bf8a553",
   "metadata": {},
   "outputs": [],
   "source": [
    "os.remove('D:/newfile1.json')"
   ]
  },
  {
   "cell_type": "code",
   "execution_count": null,
   "id": "f1a1b9ff",
   "metadata": {},
   "outputs": [],
   "source": []
  },
  {
   "cell_type": "code",
   "execution_count": null,
   "id": "00130563",
   "metadata": {},
   "outputs": [],
   "source": []
  }
 ],
 "metadata": {
  "kernelspec": {
   "display_name": "Python 3 (ipykernel)",
   "language": "python",
   "name": "python3"
  },
  "language_info": {
   "codemirror_mode": {
    "name": "ipython",
    "version": 3
   },
   "file_extension": ".py",
   "mimetype": "text/x-python",
   "name": "python",
   "nbconvert_exporter": "python",
   "pygments_lexer": "ipython3",
   "version": "3.9.13"
  }
 },
 "nbformat": 4,
 "nbformat_minor": 5
}
