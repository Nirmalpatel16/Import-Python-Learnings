{
 "cells": [
  {
   "cell_type": "code",
   "execution_count": 20,
   "id": "d6e4e114",
   "metadata": {},
   "outputs": [],
   "source": []
  },
  {
   "cell_type": "code",
   "execution_count": 24,
   "id": "5e5992d4",
   "metadata": {},
   "outputs": [
    {
     "name": "stdout",
     "output_type": "stream",
     "text": [
      "Language is Python\n"
     ]
    }
   ],
   "source": [
    "# IF and ELSE satatement\n",
    "\n",
    "language = 'Python'\n",
    "\n",
    "if language =='Python':\n",
    "    print('Language is Python')  # if contains True condition\n",
    "else:\n",
    "    print('No Match')            # Else contains False condition\n"
   ]
  },
  {
   "cell_type": "code",
   "execution_count": 22,
   "id": "0f0577d7",
   "metadata": {},
   "outputs": [],
   "source": [
    "# IF, ELIF, and ELSE satatement\n",
    "'''Now we change the the variable name to 'Java' \n",
    "Note: python does not support switch satatement'''\n",
    "\n",
    "Language = 'Java'\n",
    "\n"
   ]
  },
  {
   "cell_type": "code",
   "execution_count": 23,
   "id": "4e6edb92",
   "metadata": {},
   "outputs": [
    {
     "name": "stdout",
     "output_type": "stream",
     "text": [
      "Language is Java\n"
     ]
    }
   ],
   "source": [
    "if Language == 'Python':\n",
    "    print('Language is Python')\n",
    "elif Language == 'Java':\n",
    "    print('Language is Java')\n",
    "else:\n",
    "    print('No Match')"
   ]
  },
  {
   "cell_type": "code",
   "execution_count": 36,
   "id": "cd7c3459",
   "metadata": {},
   "outputs": [
    {
     "name": "stdout",
     "output_type": "stream",
     "text": [
      "Admin Page\n"
     ]
    }
   ],
   "source": [
    "#Boolean opration with IF and ELSE satatement\n",
    "\n",
    "'''\n",
    "Boolen oprater\n",
    "1. AND\n",
    "2. OR\n",
    "3. NOT \n",
    "\n",
    "'''\n",
    "\n",
    "user = 'Admin'\n",
    "Logged_in = True\n",
    "\n",
    "if user == 'Admin' and Logged_in:     # Both condition needs to be true\n",
    "    print('Admin Page')\n",
    "else:\n",
    "    print('Bad Creds')\n",
    "    \n"
   ]
  },
  {
   "cell_type": "code",
   "execution_count": 41,
   "id": "51cd067d",
   "metadata": {},
   "outputs": [
    {
     "name": "stdout",
     "output_type": "stream",
     "text": [
      "Admin Page\n"
     ]
    }
   ],
   "source": [
    "user = 'Admin'\n",
    "Logged_in = False\n",
    "\n",
    "if user == 'Admin' or Logged_in:     # One condition needs to be true\n",
    "    print('Admin Page')\n",
    "else:\n",
    "    print('Bad Creds')"
   ]
  },
  {
   "cell_type": "code",
   "execution_count": 42,
   "id": "82d1e042",
   "metadata": {},
   "outputs": [
    {
     "name": "stdout",
     "output_type": "stream",
     "text": [
      "Please login\n"
     ]
    }
   ],
   "source": [
    "if not Logged_in:\n",
    "    print('Please login')\n",
    "else:\n",
    "    print('Welcome')"
   ]
  },
  {
   "cell_type": "code",
   "execution_count": 52,
   "id": "4749f867",
   "metadata": {},
   "outputs": [
    {
     "name": "stdout",
     "output_type": "stream",
     "text": [
      "True\n",
      "False\n"
     ]
    }
   ],
   "source": [
    "#What is difference between '==' and 'is' oprater\n",
    "\n",
    "a= [1,2,3]\n",
    "b= [1,2,3]\n",
    "\n",
    "print(a == b)  #This will be True beacsuse a and b are equal\n",
    "print(a is b)  #This will be false because a and b have different ID's, This are two different object and memory "
   ]
  },
  {
   "cell_type": "code",
   "execution_count": 54,
   "id": "2aeb1b78",
   "metadata": {},
   "outputs": [
    {
     "name": "stdout",
     "output_type": "stream",
     "text": [
      "2619981976704\n",
      "2619981970816\n",
      "False\n"
     ]
    }
   ],
   "source": [
    "print(id(a))\n",
    "print(id(b))\n",
    "print(a is b) \n",
    "\n",
    "# They have different id's so it returns FALSE\n",
    "# IS oprater looking for the same location ID's"
   ]
  },
  {
   "cell_type": "code",
   "execution_count": 56,
   "id": "73d146cc",
   "metadata": {},
   "outputs": [
    {
     "name": "stdout",
     "output_type": "stream",
     "text": [
      "2619981958208\n",
      "2619981958208\n",
      "True\n",
      "True\n"
     ]
    }
   ],
   "source": [
    "a= [1,2,3]\n",
    "b = a\n",
    "\n",
    "print(id(a))\n",
    "print(id(b))\n",
    "print(a is b) \n",
    "print(a == b)\n",
    "\n",
    "# They have same ID's so it returns TRUE"
   ]
  },
  {
   "cell_type": "code",
   "execution_count": 73,
   "id": "d1429ff0",
   "metadata": {},
   "outputs": [
    {
     "name": "stdout",
     "output_type": "stream",
     "text": [
      "Evaluate to False\n",
      "Evaluate to False\n",
      "Evaluate to False\n",
      "Evaluate to False\n",
      "Evaluate to False\n",
      "Evaluate to True\n",
      "Evaluate to False\n"
     ]
    }
   ],
   "source": [
    "# What evaluates to TRUE and What evaluates FALSE. Let's check\n",
    "\n",
    "'''False value\n",
    "        --FALSE\n",
    "        --None\n",
    "        --Zero of any numeric type\n",
    "        --any empty sequence (E.g = (), [], '')\n",
    "        --Any empty mapping (E.g = {})\n",
    "'''\n",
    "#1   \n",
    "Condition = False\n",
    "\n",
    "if Condition:\n",
    "    print('Evaluate to True')\n",
    "else:\n",
    "    print('Evaluate to False')\n",
    "\n",
    "    \n",
    "#2    \n",
    "Condition = None\n",
    "\n",
    "if Condition:\n",
    "    print('Evaluate to True')\n",
    "else:\n",
    "    print('Evaluate to False')\n",
    "\n",
    "    \n",
    "#3    \n",
    "Condition = 0                   # Any other value from ZERO will be True\n",
    "\n",
    "if Condition:\n",
    "    print('Evaluate to True')\n",
    "else:\n",
    "    print('Evaluate to False')\n",
    " \n",
    "\n",
    "#4 Empty list\n",
    "Condition = []\n",
    "\n",
    "if Condition:\n",
    "    print('Evaluate to True')\n",
    "else:\n",
    "    print('Evaluate to False')\n",
    "    \n",
    "\n",
    "    \n",
    "#5 Empty string\n",
    "Condition = ''\n",
    "\n",
    "if Condition:\n",
    "    print('Evaluate to True')\n",
    "else:\n",
    "    print('Evaluate to False')\n",
    "\n",
    "Condition = 'Test'                 # String with some value will return TRUE\n",
    "\n",
    "if Condition:\n",
    "    print('Evaluate to True')\n",
    "else:\n",
    "    print('Evaluate to False')\n",
    "    \n",
    "\n",
    "    \n",
    "# Empty Dictionery\n",
    "Condition = {}\n",
    "\n",
    "if Condition:\n",
    "    print('Evaluate to True')\n",
    "else:\n",
    "    print('Evaluate to False')\n",
    "\n",
    "#All Above condition will return FALSE, there may be some other condition that will also return FALSE"
   ]
  },
  {
   "cell_type": "code",
   "execution_count": 83,
   "id": "f8b0274c",
   "metadata": {},
   "outputs": [
    {
     "name": "stdout",
     "output_type": "stream",
     "text": [
      "number exist\n"
     ]
    }
   ],
   "source": [
    "abc = [1,2,3,4,5,6,7,8]\n",
    "nirmal = abc\n",
    "if nirmal is abc:\n",
    "    print('number exist')\n",
    "else:\n",
    "    print('no match')"
   ]
  },
  {
   "cell_type": "code",
   "execution_count": null,
   "id": "3040d4f0",
   "metadata": {},
   "outputs": [],
   "source": []
  }
 ],
 "metadata": {
  "kernelspec": {
   "display_name": "Python 3 (ipykernel)",
   "language": "python",
   "name": "python3"
  },
  "language_info": {
   "codemirror_mode": {
    "name": "ipython",
    "version": 3
   },
   "file_extension": ".py",
   "mimetype": "text/x-python",
   "name": "python",
   "nbconvert_exporter": "python",
   "pygments_lexer": "ipython3",
   "version": "3.9.13"
  }
 },
 "nbformat": 4,
 "nbformat_minor": 5
}
